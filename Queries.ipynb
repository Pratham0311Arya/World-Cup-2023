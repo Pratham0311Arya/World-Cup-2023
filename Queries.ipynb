{
 "cells": [
  {
   "cell_type": "markdown",
   "id": "6eed04e0",
   "metadata": {},
   "source": [
    "\n",
    "# Queries"
   ]
  },
  {
   "cell_type": "markdown",
   "id": "e886f2d9",
   "metadata": {},
   "source": [
    "1. finding all innings score of a batsmen eg.Virat Kohli\n",
    "2. tracking the performance of a player (Runs)\n",
    "3. tracking the performance of a player (Strike Rate)\n",
    "\n",
    "**creating a new column \"Boundary Percentage\"**\n",
    "\n",
    "4. finding player who scored century in the tournament\n",
    "5. finding no. of centuries per team\n",
    "6. finding teams aginst which most century came\n",
    "7. finding players who scored centurie and went not-out\n",
    "8. finding player who scored century but at a slow rate i.e took more balls and scored less runs.\n",
    "9. finding pwerhitters i.e. player who makes most runs through boundaries and SR > 175 and Runs > 20.\n",
    "10. finding team batting report\n",
    "11. finding all the players who got golden duck in the tournament.\n",
    "12. finding golden duck per team\n",
    "13. total runs by teams in the tournament\n",
    "14. Identify the top 10 players who have hit the most 6's in the tournament.\n",
    "15. Identify the top 10 players who have hit the most 4's in the tournament.\n",
    "16. Determining the batting input of each player in an innings.\n",
    "17. finding player with highest strike rate in the tournament\n",
    "18. comparing performance of two players\n",
    "19. comparing strike rate and run of each team player\n",
    "20. finding out player who got run out and then per country\n",
    "21. finding LBWs player who got lbw and then per country\n",
    "22. finding out wickets taken by a particualar bowler\n",
    "23. comparing two bowlers wickets in against all teams in the tournamnet\n",
    "\n",
    "\n"
   ]
  },
  {
   "cell_type": "code",
   "execution_count": null,
   "id": "838fbaf7",
   "metadata": {},
   "outputs": [],
   "source": []
  }
 ],
 "metadata": {
  "kernelspec": {
   "display_name": "Python 3 (ipykernel)",
   "language": "python",
   "name": "python3"
  },
  "language_info": {
   "codemirror_mode": {
    "name": "ipython",
    "version": 3
   },
   "file_extension": ".py",
   "mimetype": "text/x-python",
   "name": "python",
   "nbconvert_exporter": "python",
   "pygments_lexer": "ipython3",
   "version": "3.11.5"
  }
 },
 "nbformat": 4,
 "nbformat_minor": 5
}
